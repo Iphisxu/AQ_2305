{
 "cells": [
  {
   "attachments": {},
   "cell_type": "markdown",
   "metadata": {},
   "source": [
    "# 根据要求导出`WRF-CMAQ`模拟数据\n",
    "两大剖面的数据。用matlab存成三维数组，三个维度分别是水平位置、垂直高度和小时时刻，用这样的三维数组去装载各指标，包括**O3浓度、PM2.5浓度、NO2浓度、各过程贡献、各来源贡献**，例如O3浓度的三维数组是CO3（2点位,300米,4月2日13时）=75μg/m3。其中水平位置可以用1~n代表n个经纬度组合，再单独给一个对照表即可，例如2点位=（E 113.6°、N 29.1°）。\n",
    "\n",
    "---\n",
    "*@author: Evan*\\\n",
    "*@date: 2023-05-15*"
   ]
  },
  {
   "cell_type": "code",
   "execution_count": 1,
   "metadata": {},
   "outputs": [],
   "source": [
    "import xarray as xr\n",
    "import numpy as np\n",
    "import pandas as pd\n",
    "from scipy.io import savemat\n",
    "\n",
    "# silence the warning note\n",
    "import warnings\n",
    "warnings.filterwarnings(\"ignore\")\n",
    "\n",
    "import sys\n",
    "sys.path.append('../../src/')\n",
    "from findpoint import findpoint\n",
    "import ModelEvaLib as me\n",
    "from namelist import *"
   ]
  },
  {
   "cell_type": "code",
   "execution_count": 2,
   "metadata": {},
   "outputs": [],
   "source": [
    "lon1, lat1 = 116.6, 31.1\n",
    "lon2, lat2 = 117.4, 30.1\n",
    "\n",
    "lon3, lat3 = 116.1, 29.74\n",
    "lon4, lat4 = 117.46, 30.85\n",
    "\n",
    "lon5, lat5 = 116.8, 30.54\n",
    "lon6, lat6 = 117.3, 30.5"
   ]
  },
  {
   "cell_type": "code",
   "execution_count": 3,
   "metadata": {},
   "outputs": [],
   "source": [
    "chemfiles = [cmaqfile1,cmaqfile2]\n",
    "metfiles = [mcipfile,presrhfile]\n",
    "pafiles = [pa_O3file1,pa_O3file2]\n",
    "isamfiles = [isam_O3file1,isam_O3file2]\n",
    "isamfiles2 = [isam_PMfile1,isam_PMfile2]\n",
    "\n",
    "chem = xr.open_mfdataset(chemfiles,combine='nested',concat_dim='time')\n",
    "met = xr.open_mfdataset(metfiles)\n",
    "pa = xr.open_mfdataset(pafiles,combine='nested',concat_dim='time')\n",
    "isam = xr.open_mfdataset(isamfiles,combine='nested',concat_dim='time')\n",
    "isam2 = xr.open_mfdataset(isamfiles2,combine='nested',concat_dim='time')"
   ]
  },
  {
   "cell_type": "code",
   "execution_count": 4,
   "metadata": {},
   "outputs": [],
   "source": [
    "nlevel = 21\n",
    "number = 50\n",
    "\n",
    "lat = chem.latitude\n",
    "lon = chem.longitude\n",
    "\n",
    "O3   = chem.O3[:,:nlevel,:,:]\n",
    "NO2  = chem.NO2[:,:nlevel,:,:]\n",
    "PM25 = chem.PM25[:,:nlevel,:,:]\n",
    "ht   = chem.HT[:,:nlevel,:,:]\n",
    "\n",
    "# mda8   = O3.rolling(time=8).mean().resample({'time':'D'}).max(dim='time')\n",
    "# NO2avg = NO2.resample({'time':'D'}).mean(dim='time')\n",
    "# PMavg  = PM25.resample({'time':'D'}).mean(dim='time')\n",
    "# htavg  = ht.resample({'time':'D'}).mean(dim='time')\n",
    "# print(mda8.shape)\n",
    "\n",
    "HADV = pa.HADV_O3[:,:nlevel,:,:]\n",
    "ZADV = pa.ZADV_O3[:,:nlevel,:,:]\n",
    "HDIF = pa.HDIF_O3[:,:nlevel,:,:]\n",
    "VDIF = pa.VDIF_O3[:,:nlevel,:,:]\n",
    "DDEP = pa.DDEP_O3[:,:nlevel,:,:]\n",
    "CHEM = pa.CHEM_O3[:,:nlevel,:,:]\n",
    "\n",
    "O3_AnQ = isam.O3_AnQ[:,:nlevel,:,:]\n",
    "O3_AQI = isam.O3_AQI[:,:nlevel,:,:]\n",
    "O3_AQT = isam.O3_AQT[:,:nlevel,:,:]\n",
    "O3_AQA = isam.O3_AQA[:,:nlevel,:,:]\n",
    "O3_OTH = isam.O3_OTH[:,:nlevel,:,:]\n",
    "O3_BCO = isam.O3_BCO[:,:nlevel,:,:]\n",
    "O3_ICO = isam.O3_ICO[:,:nlevel,:,:]\n",
    "\n",
    "PM_AnQ = isam2.PM_AnQ[:,:nlevel,:,:]\n",
    "PM_AQI = isam2.PM_AQI[:,:nlevel,:,:]\n",
    "PM_AQT = isam2.PM_AQT[:,:nlevel,:,:]\n",
    "PM_AQA = isam2.PM_AQA[:,:nlevel,:,:]\n",
    "PM_OTH = isam2.PM_OTH[:,:nlevel,:,:]\n",
    "PM_BCO = isam2.PM_BCO[:,:nlevel,:,:]\n",
    "PM_ICO = isam2.PM_ICO[:,:nlevel,:,:]"
   ]
  },
  {
   "attachments": {},
   "cell_type": "markdown",
   "metadata": {},
   "source": [
    "## Line2"
   ]
  },
  {
   "cell_type": "code",
   "execution_count": 5,
   "metadata": {},
   "outputs": [
    {
     "data": {
      "text/plain": [
       "(744, 21, 50)"
      ]
     },
     "execution_count": 5,
     "metadata": {},
     "output_type": "execute_result"
    }
   ],
   "source": [
    "# 生成沿两个点连线的坐标\n",
    "lons = np.linspace(lon3,lon4,num=number)\n",
    "lats = np.linspace(lat3,lat4,num=number)\n",
    "\n",
    "# 选取这些点在数据集中的最接近的网格点的数据\n",
    "x_index = []\n",
    "y_index = []\n",
    "\n",
    "for i in range(number): \n",
    "    out_x, out_y = findpoint(lons[i],lats[i],O3)\n",
    "    x_index.append(out_x)\n",
    "    y_index.append(out_y)\n",
    "O3_sel   = O3.isel(x=x_index, y=y_index)\n",
    "NO2_sel  = NO2.isel(x=x_index, y=y_index)\n",
    "PM25_sel = PM25.isel(x=x_index, y=y_index)\n",
    "htsel    = ht.isel(x=x_index, y=y_index)\n",
    "\n",
    "diag_O3   = np.diagonal(O3_sel, axis1=2, axis2=3)\n",
    "diag_NO2  = np.diagonal(NO2_sel, axis1=2, axis2=3)\n",
    "diag_PM25 = np.diagonal(PM25_sel, axis1=2, axis2=3)\n",
    "diag_ht   = np.diagonal(htsel, axis1=2, axis2=3)\n",
    "\n",
    "diag_O3.shape"
   ]
  },
  {
   "cell_type": "code",
   "execution_count": 6,
   "metadata": {},
   "outputs": [
    {
     "data": {
      "text/plain": [
       "(744, 21, 50)"
      ]
     },
     "execution_count": 6,
     "metadata": {},
     "output_type": "execute_result"
    }
   ],
   "source": [
    "HADV_sel  = HADV.isel(x=x_index, y=y_index)\n",
    "ZADV_sel  = ZADV.isel(x=x_index, y=y_index)\n",
    "HDIF_sel  = HDIF.isel(x=x_index, y=y_index)\n",
    "VDIF_sel  = VDIF.isel(x=x_index, y=y_index)\n",
    "DDEP_sel  = DDEP.isel(x=x_index, y=y_index)\n",
    "CHEM_sel  = CHEM.isel(x=x_index, y=y_index)\n",
    "\n",
    "diag_HADV  = np.diagonal(HADV_sel, axis1=2, axis2=3)\n",
    "diag_ZADV  = np.diagonal(ZADV_sel, axis1=2, axis2=3)\n",
    "diag_HDIF  = np.diagonal(HDIF_sel, axis1=2, axis2=3)\n",
    "diag_VDIF  = np.diagonal(VDIF_sel, axis1=2, axis2=3)\n",
    "diag_DDEP  = np.diagonal(DDEP_sel, axis1=2, axis2=3)\n",
    "diag_CHEM  = np.diagonal(CHEM_sel, axis1=2, axis2=3)\n",
    "\n",
    "diag_HADV.shape"
   ]
  },
  {
   "cell_type": "code",
   "execution_count": 7,
   "metadata": {},
   "outputs": [
    {
     "data": {
      "text/plain": [
       "(744, 21, 50)"
      ]
     },
     "execution_count": 7,
     "metadata": {},
     "output_type": "execute_result"
    }
   ],
   "source": [
    "O3AnQ_sel = O3_AnQ.isel(x=x_index, y=y_index)\n",
    "O3AQI_sel = O3_AQI.isel(x=x_index, y=y_index)\n",
    "O3AQT_sel = O3_AQT.isel(x=x_index, y=y_index)\n",
    "O3AQA_sel = O3_AQA.isel(x=x_index, y=y_index)\n",
    "O3OTH_sel = O3_OTH.isel(x=x_index, y=y_index)\n",
    "O3ICO_sel = O3_ICO.isel(x=x_index, y=y_index)\n",
    "O3BCO_sel = O3_BCO.isel(x=x_index, y=y_index)\n",
    "\n",
    "PMAnQ_sel = PM_AnQ.isel(x=x_index, y=y_index)\n",
    "PMAQI_sel = PM_AQI.isel(x=x_index, y=y_index)\n",
    "PMAQT_sel = PM_AQT.isel(x=x_index, y=y_index)\n",
    "PMAQA_sel = PM_AQA.isel(x=x_index, y=y_index)\n",
    "PMOTH_sel = PM_OTH.isel(x=x_index, y=y_index)\n",
    "PMICO_sel = PM_ICO.isel(x=x_index, y=y_index)\n",
    "PMBCO_sel = PM_BCO.isel(x=x_index, y=y_index)\n",
    "\n",
    "diag_O3AnQ = np.diagonal(O3AnQ_sel, axis1=2, axis2=3)\n",
    "diag_O3AQI = np.diagonal(O3AQI_sel, axis1=2, axis2=3)\n",
    "diag_O3AQT = np.diagonal(O3AQT_sel, axis1=2, axis2=3)\n",
    "diag_O3AQA = np.diagonal(O3AQA_sel, axis1=2, axis2=3)\n",
    "diag_O3OTH = np.diagonal(O3OTH_sel, axis1=2, axis2=3)\n",
    "diag_O3ICO = np.diagonal(O3ICO_sel, axis1=2, axis2=3)\n",
    "diag_O3BCO = np.diagonal(O3BCO_sel, axis1=2, axis2=3)\n",
    "\n",
    "diag_PMAnQ = np.diagonal(PMAnQ_sel, axis1=2, axis2=3)\n",
    "diag_PMAQI = np.diagonal(PMAQI_sel, axis1=2, axis2=3)\n",
    "diag_PMAQT = np.diagonal(PMAQT_sel, axis1=2, axis2=3)\n",
    "diag_PMAQA = np.diagonal(PMAQA_sel, axis1=2, axis2=3)\n",
    "diag_PMOTH = np.diagonal(PMOTH_sel, axis1=2, axis2=3)\n",
    "diag_PMICO = np.diagonal(PMICO_sel, axis1=2, axis2=3)\n",
    "diag_PMBCO = np.diagonal(PMBCO_sel, axis1=2, axis2=3)\n",
    "\n",
    "diag_O3AnQ.shape"
   ]
  },
  {
   "cell_type": "code",
   "execution_count": 8,
   "metadata": {},
   "outputs": [],
   "source": [
    "df_line1 = pd.DataFrame(\n",
    "    index=np.arange(1,51),\n",
    "    data={'经度':lons,'纬度':lats}\n",
    ")\n",
    "df_line1.to_excel('D:/Download/line2.xlsx')"
   ]
  },
  {
   "cell_type": "code",
   "execution_count": 9,
   "metadata": {},
   "outputs": [],
   "source": [
    "savemat(\n",
    "    'D:/Download/line2.mat',\n",
    "    {\n",
    "    'height':diag_ht,\n",
    "    'O3':diag_O3,\n",
    "    'NO2':diag_NO2,\n",
    "    'PM25':diag_PM25,\n",
    "    'HADV':diag_HADV,\n",
    "    'ZADV':diag_ZADV,\n",
    "    'HDIF':diag_HDIF,\n",
    "    'VDIF':diag_VDIF,\n",
    "    'DDEP':diag_DDEP,\n",
    "    'CHEM':diag_CHEM,\n",
    "    'O3_AnQ':diag_O3AnQ,\n",
    "    'O3_AQI':diag_O3AQI,\n",
    "    'O3_AQT':diag_O3AQT,\n",
    "    'O3_AQA':diag_O3AQA,\n",
    "    'O3_OTH':diag_O3OTH,\n",
    "    'O3_BCO':diag_O3BCO,\n",
    "    'O3_ICO':diag_O3ICO,\n",
    "    'PM_AnQ':diag_PMAnQ,\n",
    "    'PM_AQI':diag_PMAQI,\n",
    "    'PM_AQT':diag_PMAQT,\n",
    "    'PM_AQA':diag_PMAQA,\n",
    "    'PM_OTH':diag_PMOTH,\n",
    "    'PM_BCO':diag_PMBCO,\n",
    "    'PM_ICO':diag_PMICO,\n",
    "    }\n",
    "    )"
   ]
  }
 ],
 "metadata": {
  "kernelspec": {
   "display_name": "base",
   "language": "python",
   "name": "python3"
  },
  "language_info": {
   "codemirror_mode": {
    "name": "ipython",
    "version": 3
   },
   "file_extension": ".py",
   "mimetype": "text/x-python",
   "name": "python",
   "nbconvert_exporter": "python",
   "pygments_lexer": "ipython3",
   "version": "3.8.8"
  },
  "orig_nbformat": 4
 },
 "nbformat": 4,
 "nbformat_minor": 2
}
